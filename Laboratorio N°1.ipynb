{
 "cells": [
  {
   "cell_type": "markdown",
   "id": "71ace20c",
   "metadata": {},
   "source": [
    "***LABORATORIO N°1***\n",
    "\n",
    "**Integrantes:**\n",
    "\n",
    "*Laura Sofia Mosquera Gruezo*\n",
    "\n",
    "*María Celeste Isaza Vergara*\n",
    "\n",
    "1. Desarrolle los siguientes programas usando VS code:\n"
   ]
  },
  {
   "cell_type": "markdown",
   "id": "777bffb6",
   "metadata": {},
   "source": [
    "A. Investigue como definir funciones en Python usando “def”, describa un breve ejemplo.\n"
   ]
  },
  {
   "cell_type": "markdown",
   "id": "f21153f0",
   "metadata": {},
   "source": [
    "*Solución:*\n",
    "\n",
    "Para crear o definir una función en Phyton se utiliza la palabra clave \"def\" y se sigue la siguiente sintaxis:\n",
    "*def nombre_funcion(parámetros):*"
   ]
  },
  {
   "cell_type": "code",
   "execution_count": null,
   "id": "cc5da9b3",
   "metadata": {},
   "outputs": [
    {
     "name": "stdout",
     "output_type": "stream",
     "text": [
      "54\n"
     ]
    }
   ],
   "source": [
    "#EJEMPLO:\n",
    "def multiplicacion (a,b):\n",
    "    resultado =a*b\n",
    "    return resultado\n",
    "print(multiplicacion(6,9))\n"
   ]
  },
  {
   "cell_type": "markdown",
   "id": "c84fb9a2",
   "metadata": {},
   "source": [
    "B. Desarrolle una calculadora básica usando funciones, en la cual ingresen 2 números enteros y el\n",
    "tipo de operación a realizar en string. Como resultado la calculadora debe arrojar la operación\n",
    "deseada entre los 2 números.\n"
   ]
  },
  {
   "cell_type": "markdown",
   "id": "907dad57",
   "metadata": {},
   "source": [
    "*Solucion:*"
   ]
  },
  {
   "cell_type": "code",
   "execution_count": null,
   "id": "1f7bdb84",
   "metadata": {},
   "outputs": [
    {
     "name": "stdout",
     "output_type": "stream",
     "text": [
      "144 12\n",
      "El resultado de la modulo es:0\n"
     ]
    }
   ],
   "source": [
    "#Ingreso de variables:\n",
    "a=int(input(\"Ingrese un numero para a:\"))\n",
    "b=int(input(\"Ingrese un numero para b:\"))\n",
    "print(a,b)\n",
    "#Definicion de variables: \n",
    "def suma (a,b):\n",
    "       resultado= a+b\n",
    "       return resultado\n",
    "\n",
    "def resta (a,b):\n",
    "       resultado= a-b\n",
    "       return resultado\n",
    "\n",
    "def multiplicacion (a,b):\n",
    "       resultado= a*b\n",
    "       return resultado\n",
    "      \n",
    "def division (a,b):\n",
    "       if b==0:\n",
    "             return \"Error: no existe division por cero\"\n",
    "       resultado= a/b\n",
    "       return resultado\n",
    "\n",
    "def modulo (a,b):\n",
    "       resultado= a%b\n",
    "       return resultado\n",
    "\n",
    "def cal(a,b,operacion):\n",
    "    #Creacion del diccionario de operaciones:\n",
    "    operaciones ={\n",
    "          \"suma\":suma,\n",
    "          \"resta\":resta,\n",
    "          \"multiplicacion\":multiplicacion,\n",
    "          \"division\":division,\n",
    "          \"modulo\":modulo\n",
    "\n",
    "    }\n",
    "    if operacion in operaciones:\n",
    "      return operaciones[operacion](a,b)\n",
    "    else:\n",
    "          return \"operacion no valida\"\n",
    "operacion=input(\"Ingresar operación de desea ejecutar:\")\n",
    "resultado=cal(a,b,operacion)\n",
    "print(f\"El resultado de la {operacion} es:{resultado}\")\n"
   ]
  },
  {
   "cell_type": "markdown",
   "id": "e91c3073",
   "metadata": {},
   "source": [
    "C. Desarrolle un algoritmo en el cual usted pueda definir el tamaño de una matriz cuadrada con\n",
    "un numero N, posteriormente le pida cada uno de los valores de la matriz con la indicación\n",
    "exacta de donde ira ubicado. Finalmente, el algoritmo debe retornar al usuario la matriz\n",
    "deseada y su transpuesta."
   ]
  },
  {
   "cell_type": "markdown",
   "id": "792aa4fc",
   "metadata": {},
   "source": [
    "*Solución:*"
   ]
  },
  {
   "cell_type": "code",
   "execution_count": null,
   "id": "61a0df28",
   "metadata": {},
   "outputs": [
    {
     "name": "stdout",
     "output_type": "stream",
     "text": [
      " \n",
      " Los valores ingresados en [0,0]= 1.0\n",
      " \n",
      " Los valores ingresados en [0,1]= 2.0\n",
      " \n",
      " Los valores ingresados en [1,0]= 3.0\n",
      " \n",
      " Los valores ingresados en [1,1]= 4.0\n",
      "\n",
      " La matriz creada es: \n",
      "[[1. 2.]\n",
      " [3. 4.]]\n",
      "\n",
      " La matriz transpuesta es: \n",
      "[[1. 3.]\n",
      " [2. 4.]]\n"
     ]
    }
   ],
   "source": [
    "import numpy as np\n",
    "#Ingreso del tamaño de la matriz:\n",
    "m = int(input(\"Ingrese el número de filas (m): \"))\n",
    "n = int(input(\"Ingrese el número de columnas (n): \"))\n",
    "#Creación de la matriz:\n",
    "matriz =np.zeros((m,n))\n",
    "#Ingreso de los valores para la matriz:\n",
    "for i in range(m):\n",
    "    for j in range(n):\n",
    "        numero = float(input(f\"Ingrese el valor para la posición ({i},{j}): \"))\n",
    "        matriz[i][j] = round(numero)\n",
    "        print(f\" \\n Los valores ingresados en [{i},{j}]=\", numero )\n",
    "print(\"\\n La matriz creada es: \")\n",
    "print(matriz)\n",
    "#Calculo de la matriz transpuesta:\n",
    "matriz_transpuesta=matriz.T\n",
    "print(\"\\n La matriz transpuesta es: \")\n",
    "print(matriz_transpuesta)"
   ]
  },
  {
   "cell_type": "markdown",
   "id": "aac89387",
   "metadata": {},
   "source": [
    " D. Desarrolle un algoritmo que reciba un mes y día especifico, y nos dé una aproximación para esa\n",
    "fecha sobre la estación climática en la cual estamos.\n"
   ]
  },
  {
   "cell_type": "markdown",
   "id": "bf9ba164",
   "metadata": {},
   "source": [
    "*Solución:*"
   ]
  },
  {
   "cell_type": "code",
   "execution_count": null,
   "id": "508a6601",
   "metadata": {},
   "outputs": [
    {
     "name": "stdout",
     "output_type": "stream",
     "text": [
      "noviembre 31\n",
      "El día 31 no es valido para el mes de noviembre\n"
     ]
    }
   ],
   "source": [
    "#Definición de la función estación:\n",
    "def estacion (mes,dia):\n",
    "    #Creación del diccionario de meses válidos:\n",
    "    meses_validos= {\n",
    "        \"enero\":31,\n",
    "        \"febrero\":29,\n",
    "        \"marzo\":31,\n",
    "        \"abril\":30,\n",
    "        \"mayo\":31,\n",
    "        \"junio\":30,\n",
    "        \"julio\":31,\n",
    "        \"agosto\":31,\n",
    "        \"septiembre\":30,\n",
    "        \"octubre\":31,\n",
    "        \"noviembre\":30,\n",
    "        \"diciembre\":31\n",
    "    }\n",
    "    mes=mes.lower() #Flexibilidad \n",
    "    #Para saber sí el mes es válido:\n",
    "    if mes not in meses_validos:\n",
    "        return \" El mes ingresado no es válido\"\n",
    "    #Para saber sí el día es válido:\n",
    "    if dia<1 or dia>meses_validos[mes]:\n",
    "        return f\"El día {dia} no es valido para el mes de {mes}\"\n",
    "    #Determinación de las estaciones:\n",
    "    if (mes==\"diciembre\" and dia>=21) or (mes in [\"enero\",\"febrero\"]) or (mes==\"marzo\" and dia<=20):\n",
    "        return \"Estamos en verano\"\n",
    "    elif (mes==\"marzo\" and dia>=21) or (mes in [\"abril\",\"mayo\"]) or (mes==\"junio\" and dia<=20):\n",
    "        return \"Estamos en otoño\"\n",
    "    elif (mes==\"junio\" and dia>=21) or (mes in [\"julio\",\"agosto\"]) or (mes==\"septiembre\" and dia<=20):\n",
    "        return \"Estamos en invierno\"\n",
    "    elif (mes==\"septiembre\" and dia>=21) or (mes in [\"octubre\",\"noviembre\"]) or (mes==\"diciembre\" and dia<=20):\n",
    "        return \"Estamos en primavera\"\n",
    "    else:\n",
    "        return \"Error\"\n",
    "#Ingreso de los datos:\n",
    "mes=str(input(\"Ingrese el mes que desea consultar : \"))\n",
    "dia=int(input(\"Ingrese el día que desea consultar: \"))\n",
    "print(mes,dia)\n",
    "resultado=estacion(mes,dia)\n",
    "print(resultado)"
   ]
  },
  {
   "cell_type": "markdown",
   "id": "5432f980",
   "metadata": {},
   "source": [
    "E. Desarrolle un algoritmo que sea capaz de sumar una matriz aleatoria con una matriz ingresada\n",
    "por el usuario.\n"
   ]
  },
  {
   "cell_type": "markdown",
   "id": "46cd7b91",
   "metadata": {},
   "source": [
    "*Solución:*"
   ]
  },
  {
   "cell_type": "code",
   "execution_count": 50,
   "id": "eb95c481",
   "metadata": {},
   "outputs": [
    {
     "name": "stdout",
     "output_type": "stream",
     "text": [
      " \n",
      " La matriz aleatoria es:\n",
      "\n",
      " [[0.3  0.28]\n",
      " [0.55 0.58]]\n",
      " \n",
      " La matriz creada por el usuario es:\n",
      "\n",
      " [[12. 13.]\n",
      " [45. 78.]]\n",
      "\n",
      " El resultado de la suma de las dos matrices es: \n",
      "\n",
      " [[12.3  13.28]\n",
      " [45.55 78.58]]\n"
     ]
    }
   ],
   "source": [
    "import numpy as np \n",
    "#Creación de la matriz aleatoria:_\n",
    "m = int(input(\"Ingrese el número de filas (m): \"))\n",
    "n = int(input(\"Ingrese el número de columnas (n): \"))\n",
    "matriz_aleatoria=np.round(np.random.rand(m,n),2)\n",
    "print(\" \\n La matriz aleatoria es:\")\n",
    "print(\"\\n\", matriz_aleatoria)\n",
    "#Creacion de la matriz por el usuario:\n",
    "matriz_usuario = np.zeros((m,n))\n",
    "for i in range(m):\n",
    "    for j in range(n):\n",
    "        matriz_usuario[i][j] = float(input(f\"Ingrese el valor para la posición ({i},{j}): \"))\n",
    "print(\" \\n La matriz creada por el usuario es:\")\n",
    "print(\"\\n\", matriz_usuario)\n",
    "#Suma de las dos matrices:\n",
    "MATRIZ_R=matriz_aleatoria+matriz_usuario \n",
    "print(\"\\n El resultado de la suma de las dos matrices es: \")\n",
    "print(\"\\n\", MATRIZ_R)"
   ]
  },
  {
   "cell_type": "markdown",
   "id": "17767ffc",
   "metadata": {},
   "source": [
    "F. Una empresa de comercio electrónico necesita un programa en Python que procese reseñas de\n",
    "clientes.\n",
    "\n",
    "El programa debe:\n",
    "\n",
    "1. Pedir al usuario que ingrese varias reseñas de productos (mínimo 3).\n",
    "\n",
    "2. Convertir todas las reseñas a minúsculas y eliminar signos de puntuación básicos (. , ! ?).\n",
    "\n",
    "3. Guardar cada reseña en una lista.\n",
    "\n",
    "4. Crear un diccionario de frecuencias que indique cuántas veces aparece cada palabra en\n",
    "todas las reseñas combinadas.\n",
    "\n",
    "5. Identificar y mostrar: Las 3 palabras más frecuentes en las reseñas."
   ]
  },
  {
   "cell_type": "markdown",
   "id": "6e0a0511",
   "metadata": {},
   "source": [
    "*Solución:*"
   ]
  },
  {
   "cell_type": "code",
   "execution_count": null,
   "id": "a9d58c8c",
   "metadata": {},
   "outputs": [
    {
     "name": "stdout",
     "output_type": "stream",
     "text": [
      "\n",
      " EL SHAMPOO NO ES HIDRATANTE, PESIMO.\n",
      "\n",
      " LOS ENVIOS SON MUY DEMORADOS, DICEN QUE LLEGA EN UNA FECHA Y LLEGA UN SIGLO DESPUES.\n",
      "\n",
      " HAN LLEGADO ROTO LOS EMPAQUE.\n",
      "\n",
      " HICE MI PEDIDO Y SE HUNDIÓ EL CONTENEDOR.\n",
      "\n",
      " el shampoo no es hidratante pesimo\n",
      "\n",
      " los envios son muy demorados dicen que llega en una fecha y llega un siglo despues\n",
      "\n",
      " han llegado roto los empaque\n",
      "\n",
      " hice mi pedido y se hundió el contenedor\n",
      "\n",
      "Las 3 palabras más frecuentes son:\n",
      "'el': 2 veces\n",
      "'los': 2 veces\n",
      "'llega': 2 veces\n"
     ]
    }
   ],
   "source": [
    "import string\n",
    "from collections import Counter\n",
    "def procesar_reseñas():\n",
    "    # Reseñas:\n",
    "    reseñas = []\n",
    "    cantidad_reseñas=int(input(\"Ingrese la cantidad de reseñas que desea dar: \"))\n",
    "    # Recolectar las 3 reseñas del usuario:\n",
    "    for i in range (cantidad_reseñas):\n",
    "        reseña = input(f\"Ingrese la reseña {i+1}: \")\n",
    "        reseñas.append(reseña)\n",
    "    for r in reseñas:\n",
    "        print(\"\\n\", r)\n",
    "    # Conversión a minúsculas y eliminación de signos de puntuación:\n",
    "    palabras = []\n",
    "    for reseña in reseñas:\n",
    "        reseña_limpia = reseña.lower().translate(str.maketrans('', '', string.punctuation))\n",
    "        palabras.extend(reseña_limpia.split())\n",
    "        print( \"\\n\" ,reseña_limpia)\n",
    "    # Contar las palabras:\n",
    "    frecuencias = Counter(palabras)\n",
    "    # Identificación de las 3 palabras más comunes:\n",
    "    print(\"\\nLas 3 palabras más frecuentes son:\")\n",
    "    for palabra, frecuencia in frecuencias.most_common(3):\n",
    "        print(f\"'{palabra}': {frecuencia} veces\")\n",
    "# Ejecutar el programa:\n",
    "if __name__ == \"__main__\":\n",
    "    procesar_reseñas()"
   ]
  }
 ],
 "metadata": {
  "kernelspec": {
   "display_name": "Python 3",
   "language": "python",
   "name": "python3"
  },
  "language_info": {
   "codemirror_mode": {
    "name": "ipython",
    "version": 3
   },
   "file_extension": ".py",
   "mimetype": "text/x-python",
   "name": "python",
   "nbconvert_exporter": "python",
   "pygments_lexer": "ipython3",
   "version": "3.11.1"
  }
 },
 "nbformat": 4,
 "nbformat_minor": 5
}
